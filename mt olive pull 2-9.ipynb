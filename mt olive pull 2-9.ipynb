{
 "cells": [
  {
   "cell_type": "code",
   "execution_count": 42,
   "metadata": {},
   "outputs": [],
   "source": [
    "import pandas as pd\n",
    "from selenium import webdriver\n",
    "from selenium.webdriver.common.keys import Keys\n",
    "from selenium.webdriver.support.ui import Select"
   ]
  },
  {
   "cell_type": "code",
   "execution_count": 22,
   "metadata": {
    "scrolled": false
   },
   "outputs": [],
   "source": [
    "driver = webdriver.Safari()"
   ]
  },
  {
   "cell_type": "code",
   "execution_count": 40,
   "metadata": {},
   "outputs": [],
   "source": [
    "driver.get('http://tax1.co.monmouth.nj.us/cgi-bin/prc6.cgi?&ms_user=glou&passwd=&district=1427&srch_type=0&adv=1&out_type=2')"
   ]
  },
  {
   "cell_type": "code",
   "execution_count": 44,
   "metadata": {},
   "outputs": [],
   "source": [
    "perpage = Select(driver.find_element_by_name('ms_ln'))\n",
    "perpage.select_by_value(\"1000\")\n",
    "block = driver.find_element_by_name('block')\n",
    "lot = driver.find_element_by_name('lot')"
   ]
  },
  {
   "cell_type": "code",
   "execution_count": 45,
   "metadata": {},
   "outputs": [],
   "source": [
    "block.send_keys(\"4100\")\n",
    "lot.send_keys(\"80\")"
   ]
  },
  {
   "cell_type": "code",
   "execution_count": 46,
   "metadata": {},
   "outputs": [],
   "source": [
    "login = driver.find_element_by_xpath(\"//input[@type ='Submit']\")\n",
    "login.click()"
   ]
  },
  {
   "cell_type": "code",
   "execution_count": 47,
   "metadata": {},
   "outputs": [],
   "source": [
    "pagesource = driver.page_source"
   ]
  },
  {
   "cell_type": "code",
   "execution_count": 3,
   "metadata": {},
   "outputs": [],
   "source": [
    "location = \"/Users/bsimoff/Downloads\"\n",
    "filename = \"Search Results.html\"\n",
    "address = location+\"/\"+filename"
   ]
  },
  {
   "cell_type": "code",
   "execution_count": 4,
   "metadata": {},
   "outputs": [],
   "source": [
    "#for saved files\n",
    "#file = open(address, \"r\").read()\n",
    "#dfs = pd.read_html(file,header=0)\n",
    "#datefind = file.find('as of') #find where the update date is\n",
    "#updatedate = file[datefind+6:datefind+14]"
   ]
  },
  {
   "cell_type": "code",
   "execution_count": 49,
   "metadata": {},
   "outputs": [],
   "source": [
    "dfs = pd.read_html(pagesource,header=0)"
   ]
  },
  {
   "cell_type": "code",
   "execution_count": 50,
   "metadata": {},
   "outputs": [],
   "source": [
    "df = pd.DataFrame(data=dfs[0])"
   ]
  },
  {
   "cell_type": "code",
   "execution_count": 52,
   "metadata": {},
   "outputs": [],
   "source": [
    "datefind = pagesource.find('as of') #find where the update date is\n",
    "updatedate = pagesource[datefind+6:datefind+14]"
   ]
  },
  {
   "cell_type": "code",
   "execution_count": 53,
   "metadata": {},
   "outputs": [],
   "source": [
    "previous = pd.read_excel(\"/Users/bsimoff/Documents/Python/Mt Olive/results.xlsx\",index_col = 0)"
   ]
  },
  {
   "cell_type": "code",
   "execution_count": 54,
   "metadata": {},
   "outputs": [],
   "source": [
    "saledate = []\n",
    "newowner = []\n",
    "for i in range(len(previous)):\n",
    "    if previous['Location/Class'][i] == df['Location/Class'][i]:\n",
    "        if previous['Sale Price/Date'][i] == df['Sale Price/Date'][i]:\n",
    "            saledate.append(0)\n",
    "            newowner.append(0)\n",
    "        else:\n",
    "            saledate.append(df['Sale Price/Date'][i])\n",
    "            newowner.append(df['Owner/Street/C S Z'][i])\n",
    "    else:\n",
    "        skip"
   ]
  },
  {
   "cell_type": "code",
   "execution_count": 55,
   "metadata": {},
   "outputs": [],
   "source": [
    "df[updatedate+' Owner'] = newowner"
   ]
  },
  {
   "cell_type": "code",
   "execution_count": 56,
   "metadata": {},
   "outputs": [],
   "source": [
    "df[updatedate+' Sale Date'] = saledate"
   ]
  },
  {
   "cell_type": "code",
   "execution_count": 57,
   "metadata": {},
   "outputs": [
    {
     "data": {
      "text/html": [
       "<div>\n",
       "<style scoped>\n",
       "    .dataframe tbody tr th:only-of-type {\n",
       "        vertical-align: middle;\n",
       "    }\n",
       "\n",
       "    .dataframe tbody tr th {\n",
       "        vertical-align: top;\n",
       "    }\n",
       "\n",
       "    .dataframe thead th {\n",
       "        text-align: right;\n",
       "    }\n",
       "</style>\n",
       "<table border=\"1\" class=\"dataframe\">\n",
       "  <thead>\n",
       "    <tr style=\"text-align: right;\">\n",
       "      <th></th>\n",
       "      <th>Unnamed: 0</th>\n",
       "      <th>Bl/Lot/Q</th>\n",
       "      <th>Location/Class</th>\n",
       "      <th>Owner/Street/C S Z</th>\n",
       "      <th>SF/Yr-Blt</th>\n",
       "      <th>Sale Price/Date</th>\n",
       "      <th>02/05/21 Owner</th>\n",
       "      <th>02/05/21 Sale Date</th>\n",
       "    </tr>\n",
       "  </thead>\n",
       "  <tbody>\n",
       "    <tr>\n",
       "      <th>0</th>\n",
       "      <td>MoreInfo</td>\n",
       "      <td>4100 80</td>\n",
       "      <td>2 FORCE DR Class:1</td>\n",
       "      <td>MFC MOUNTAIN RIDGE ESTATES LLC 9 WESTERN DR CO...</td>\n",
       "      <td>0 sf 2000</td>\n",
       "      <td>$1 00/00/00</td>\n",
       "      <td>0</td>\n",
       "      <td>0</td>\n",
       "    </tr>\n",
       "    <tr>\n",
       "      <th>1</th>\n",
       "      <td>MoreInfo</td>\n",
       "      <td>4100 80 B01</td>\n",
       "      <td>73 ROUTE 46 Class:4A</td>\n",
       "      <td>MFC MOUNTAIN RIDGE ESTATES LLC 9 WESTERN DR CO...</td>\n",
       "      <td>0 sf</td>\n",
       "      <td>$1 11/18/16</td>\n",
       "      <td>0</td>\n",
       "      <td>0</td>\n",
       "    </tr>\n",
       "    <tr>\n",
       "      <th>2</th>\n",
       "      <td>MoreInfo</td>\n",
       "      <td>4100 80 C001</td>\n",
       "      <td>3 FORCE DR Class:2</td>\n",
       "      <td>PEREZ, MEGAN O/MIGUEL A 3 FORCE DR BUDD LAKE, NJ</td>\n",
       "      <td>2412 sf 2018</td>\n",
       "      <td>$429985 08/22/18</td>\n",
       "      <td>0</td>\n",
       "      <td>0</td>\n",
       "    </tr>\n",
       "    <tr>\n",
       "      <th>3</th>\n",
       "      <td>MoreInfo</td>\n",
       "      <td>4100 80 C002</td>\n",
       "      <td>5 FORCE DR Class:2</td>\n",
       "      <td>ALLURI, MAHENDER/RADHIKA R/SONALI R 5 FORCE DR...</td>\n",
       "      <td>2376 sf 2018</td>\n",
       "      <td>$399990 08/30/18</td>\n",
       "      <td>0</td>\n",
       "      <td>0</td>\n",
       "    </tr>\n",
       "    <tr>\n",
       "      <th>4</th>\n",
       "      <td>MoreInfo</td>\n",
       "      <td>4100 80 C003</td>\n",
       "      <td>7 FORCE DR Class:2</td>\n",
       "      <td>THOMSIN, JEAN PAUL R/LAI, CHIA-FING PO BOX 802...</td>\n",
       "      <td>2624 sf 2018</td>\n",
       "      <td>$430990 07/31/18</td>\n",
       "      <td>0</td>\n",
       "      <td>0</td>\n",
       "    </tr>\n",
       "    <tr>\n",
       "      <th>...</th>\n",
       "      <td>...</td>\n",
       "      <td>...</td>\n",
       "      <td>...</td>\n",
       "      <td>...</td>\n",
       "      <td>...</td>\n",
       "      <td>...</td>\n",
       "      <td>...</td>\n",
       "      <td>...</td>\n",
       "    </tr>\n",
       "    <tr>\n",
       "      <th>212</th>\n",
       "      <td>MoreInfo</td>\n",
       "      <td>4100 80 C211</td>\n",
       "      <td>24 NIPER PL Class:2</td>\n",
       "      <td>SHRESTHA, NIRMAL 24 NIPER PL BUDD LAKE, NJ</td>\n",
       "      <td>2635 sf 2019</td>\n",
       "      <td>$460725 06/28/19</td>\n",
       "      <td>0</td>\n",
       "      <td>0</td>\n",
       "    </tr>\n",
       "    <tr>\n",
       "      <th>213</th>\n",
       "      <td>MoreInfo</td>\n",
       "      <td>4100 80 C212</td>\n",
       "      <td>26 NIPER PL Class:2</td>\n",
       "      <td>NICHOLAS,ANTHONY &amp; THOMPSON,VANESSA 26 NIPER P...</td>\n",
       "      <td>2624 sf 2019</td>\n",
       "      <td>$449667 07/19/19</td>\n",
       "      <td>0</td>\n",
       "      <td>0</td>\n",
       "    </tr>\n",
       "    <tr>\n",
       "      <th>214</th>\n",
       "      <td>MoreInfo</td>\n",
       "      <td>4100 80 C213</td>\n",
       "      <td>28 NIPER PL Class:2</td>\n",
       "      <td>AYIM, EGBERT S/HANSON, BRIDGIT M 28 NIPER PL B...</td>\n",
       "      <td>2624 sf 2019</td>\n",
       "      <td>$439990 07/12/19</td>\n",
       "      <td>0</td>\n",
       "      <td>0</td>\n",
       "    </tr>\n",
       "    <tr>\n",
       "      <th>215</th>\n",
       "      <td>MoreInfo</td>\n",
       "      <td>4100 80 C214</td>\n",
       "      <td>30 NIPER PL Class:2</td>\n",
       "      <td>LEENMAN, NEELTJE 30 NIPER PL BUDD LAKE, NJ</td>\n",
       "      <td>2624 sf 2019</td>\n",
       "      <td>$438485 07/09/19</td>\n",
       "      <td>0</td>\n",
       "      <td>0</td>\n",
       "    </tr>\n",
       "    <tr>\n",
       "      <th>216</th>\n",
       "      <td>MoreInfo</td>\n",
       "      <td>4100 80 C215</td>\n",
       "      <td>32 NIPER PL Class:2</td>\n",
       "      <td>ACKERSON, DAVID &amp; YVONNE V. 32 NIPER PL BUDD L...</td>\n",
       "      <td>2632 sf 2019</td>\n",
       "      <td>$447305 07/16/19</td>\n",
       "      <td>0</td>\n",
       "      <td>0</td>\n",
       "    </tr>\n",
       "  </tbody>\n",
       "</table>\n",
       "<p>217 rows × 8 columns</p>\n",
       "</div>"
      ],
      "text/plain": [
       "    Unnamed: 0      Bl/Lot/Q        Location/Class  \\\n",
       "0     MoreInfo       4100 80    2 FORCE DR Class:1   \n",
       "1     MoreInfo   4100 80 B01  73 ROUTE 46 Class:4A   \n",
       "2     MoreInfo  4100 80 C001    3 FORCE DR Class:2   \n",
       "3     MoreInfo  4100 80 C002    5 FORCE DR Class:2   \n",
       "4     MoreInfo  4100 80 C003    7 FORCE DR Class:2   \n",
       "..         ...           ...                   ...   \n",
       "212   MoreInfo  4100 80 C211   24 NIPER PL Class:2   \n",
       "213   MoreInfo  4100 80 C212   26 NIPER PL Class:2   \n",
       "214   MoreInfo  4100 80 C213   28 NIPER PL Class:2   \n",
       "215   MoreInfo  4100 80 C214   30 NIPER PL Class:2   \n",
       "216   MoreInfo  4100 80 C215   32 NIPER PL Class:2   \n",
       "\n",
       "                                    Owner/Street/C S Z     SF/Yr-Blt  \\\n",
       "0    MFC MOUNTAIN RIDGE ESTATES LLC 9 WESTERN DR CO...     0 sf 2000   \n",
       "1    MFC MOUNTAIN RIDGE ESTATES LLC 9 WESTERN DR CO...          0 sf   \n",
       "2     PEREZ, MEGAN O/MIGUEL A 3 FORCE DR BUDD LAKE, NJ  2412 sf 2018   \n",
       "3    ALLURI, MAHENDER/RADHIKA R/SONALI R 5 FORCE DR...  2376 sf 2018   \n",
       "4    THOMSIN, JEAN PAUL R/LAI, CHIA-FING PO BOX 802...  2624 sf 2018   \n",
       "..                                                 ...           ...   \n",
       "212         SHRESTHA, NIRMAL 24 NIPER PL BUDD LAKE, NJ  2635 sf 2019   \n",
       "213  NICHOLAS,ANTHONY & THOMPSON,VANESSA 26 NIPER P...  2624 sf 2019   \n",
       "214  AYIM, EGBERT S/HANSON, BRIDGIT M 28 NIPER PL B...  2624 sf 2019   \n",
       "215         LEENMAN, NEELTJE 30 NIPER PL BUDD LAKE, NJ  2624 sf 2019   \n",
       "216  ACKERSON, DAVID & YVONNE V. 32 NIPER PL BUDD L...  2632 sf 2019   \n",
       "\n",
       "      Sale Price/Date  02/05/21 Owner  02/05/21 Sale Date  \n",
       "0         $1 00/00/00               0                   0  \n",
       "1         $1 11/18/16               0                   0  \n",
       "2    $429985 08/22/18               0                   0  \n",
       "3    $399990 08/30/18               0                   0  \n",
       "4    $430990 07/31/18               0                   0  \n",
       "..                ...             ...                 ...  \n",
       "212  $460725 06/28/19               0                   0  \n",
       "213  $449667 07/19/19               0                   0  \n",
       "214  $439990 07/12/19               0                   0  \n",
       "215  $438485 07/09/19               0                   0  \n",
       "216  $447305 07/16/19               0                   0  \n",
       "\n",
       "[217 rows x 8 columns]"
      ]
     },
     "execution_count": 57,
     "metadata": {},
     "output_type": "execute_result"
    }
   ],
   "source": [
    "#df"
   ]
  },
  {
   "cell_type": "code",
   "execution_count": 58,
   "metadata": {},
   "outputs": [],
   "source": [
    "#Update Excel\n",
    "df.to_excel(\"/Users/bsimoff/Documents/Python/Mt Olive/results.xlsx\")"
   ]
  },
  {
   "cell_type": "code",
   "execution_count": 14,
   "metadata": {},
   "outputs": [],
   "source": [
    "#Initial Write:\n",
    "#with pd.ExcelWriter(\"/Users/dkoros/Documents/Mt Olive/results.xlsx\") as writer:\n",
    "#df.to_excel(\"/Users/bsimoff/Documents/Python/Mt Olive/results.xlsx\")"
   ]
  }
 ],
 "metadata": {
  "kernelspec": {
   "display_name": "Python 3",
   "language": "python",
   "name": "python3"
  },
  "language_info": {
   "codemirror_mode": {
    "name": "ipython",
    "version": 3
   },
   "file_extension": ".py",
   "mimetype": "text/x-python",
   "name": "python",
   "nbconvert_exporter": "python",
   "pygments_lexer": "ipython3",
   "version": "3.8.5"
  }
 },
 "nbformat": 4,
 "nbformat_minor": 4
}
